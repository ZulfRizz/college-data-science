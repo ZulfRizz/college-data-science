{
 "cells": [
  {
   "cell_type": "markdown",
   "id": "29299f0a",
   "metadata": {},
   "source": [
    "# Data Understanding"
   ]
  },
  {
   "cell_type": "markdown",
   "id": "92c058c4",
   "metadata": {},
   "source": [
    "## 1. Pendahuluan\n",
    "\n",
    "Tahapan **Data Understanding** adalah fase awal dalam siklus hidup proyek data science. Tujuannya adalah untuk mendapatkan pemahaman mendalam tentang data yang akan digunakan. Pada tahap ini, kita akan melakukan analisis eksplorasi awal untuk mengidentifikasi karakteristik, kualitas, dan pola dalam data. Proses ini sangat krusial karena kualitas data akan sangat memengaruhi kualitas model yang akan dibangun.\n",
    "\n",
    "Dokumen ini akan memandu proses *data understanding* yang meliputi:\n",
    "\n",
    "- **Menghubungkan dan mengambil data** dari database PostgreSQL.\n",
    "- **Menganalisis tipe data** dari setiap kolom.\n",
    "- **Mengevaluasi kualitas data**, termasuk analisis outlier, konsistensi data, dan penanganan missing value.\n"
   ]
  },
  {
   "cell_type": "markdown",
   "id": "bfd3ce7d",
   "metadata": {},
   "source": [
    "## 2. Impor Library yang Dibutuhkan\n",
    "Sel pertama ini berisi semua library Python yang akan kita gunakan selama proses analisis. Mengumpulkannya di satu tempat membuat kode lebih terorganisir."
   ]
  },
  {
   "cell_type": "code",
   "execution_count": 2,
   "id": "da0c0838",
   "metadata": {},
   "outputs": [
    {
     "name": "stdout",
     "output_type": "stream",
     "text": [
      "Note: you may need to restart the kernel to use updated packages.\n"
     ]
    }
   ],
   "source": [
    "%pip install -q psycopg2-binary sqlalchemy pandas numpy seaborn\n",
    "# Import library untuk koneksi database\n",
    "import psycopg2\n",
    "from sqlalchemy import create_engine\n",
    "# Import library untuk analisis dan manipulasi data\n",
    "import pandas as pd\n",
    "import numpy as np\n",
    "# Import library untuk visualisasi (opsional, namun sangat membantu)\n",
    "import seaborn as sns\n",
    "import matplotlib.pyplot as plt\n"
   ]
  },
  {
   "cell_type": "markdown",
   "id": "5a9e03be",
   "metadata": {},
   "source": [
    "## 3. Koneksi ke Database PostgreSQL dan Pengambilan Data\n",
    "Langkah selanjutnya adalah menghubungkan notebook ini dengan database PostgreSQL tempat data disimpan. Kita akan menggunakan sqlalchemy untuk membuat koneksi dan pandas untuk mengeksekusi query SQL dan menyimpannya ke dalam DataFrame.\n",
    "\n",
    "Ganti nilai user, password, host, port, database, dan query sesuai dengan konfigurasi Anda."
   ]
  },
  {
   "cell_type": "code",
   "execution_count": 3,
   "id": "b7169d7d",
   "metadata": {},
   "outputs": [
    {
     "name": "stdout",
     "output_type": "stream",
     "text": [
      "Koneksi ke database PostgreSQL berhasil!\n",
      "Data berhasil diambil dari tabel.\n"
     ]
    },
    {
     "data": {
      "text/html": [
       "<div>\n",
       "<style scoped>\n",
       "    .dataframe tbody tr th:only-of-type {\n",
       "        vertical-align: middle;\n",
       "    }\n",
       "\n",
       "    .dataframe tbody tr th {\n",
       "        vertical-align: top;\n",
       "    }\n",
       "\n",
       "    .dataframe thead th {\n",
       "        text-align: right;\n",
       "    }\n",
       "</style>\n",
       "<table border=\"1\" class=\"dataframe\">\n",
       "  <thead>\n",
       "    <tr style=\"text-align: right;\">\n",
       "      <th></th>\n",
       "      <th>order_id</th>\n",
       "      <th>customer_id</th>\n",
       "      <th>nama_produk</th>\n",
       "      <th>jumlah</th>\n",
       "      <th>harga_satuan</th>\n",
       "      <th>tanggal_order</th>\n",
       "      <th>status_pengiriman</th>\n",
       "      <th>rating_produk</th>\n",
       "    </tr>\n",
       "  </thead>\n",
       "  <tbody>\n",
       "    <tr>\n",
       "      <th>0</th>\n",
       "      <td>1</td>\n",
       "      <td>101</td>\n",
       "      <td>Laptop</td>\n",
       "      <td>1</td>\n",
       "      <td>12000000.0</td>\n",
       "      <td>2025-07-01</td>\n",
       "      <td>Selesai</td>\n",
       "      <td>5.0</td>\n",
       "    </tr>\n",
       "    <tr>\n",
       "      <th>1</th>\n",
       "      <td>2</td>\n",
       "      <td>102</td>\n",
       "      <td>Mouse</td>\n",
       "      <td>2</td>\n",
       "      <td>150000.0</td>\n",
       "      <td>2025-07-01</td>\n",
       "      <td>Selesai</td>\n",
       "      <td>4.0</td>\n",
       "    </tr>\n",
       "    <tr>\n",
       "      <th>2</th>\n",
       "      <td>3</td>\n",
       "      <td>103</td>\n",
       "      <td>Keyboard</td>\n",
       "      <td>1</td>\n",
       "      <td>350000.0</td>\n",
       "      <td>2025-07-02</td>\n",
       "      <td>Dikirim</td>\n",
       "      <td>5.0</td>\n",
       "    </tr>\n",
       "    <tr>\n",
       "      <th>3</th>\n",
       "      <td>4</td>\n",
       "      <td>101</td>\n",
       "      <td>laptop</td>\n",
       "      <td>1</td>\n",
       "      <td>12500000.0</td>\n",
       "      <td>2025-07-03</td>\n",
       "      <td>Selesai</td>\n",
       "      <td>4.0</td>\n",
       "    </tr>\n",
       "    <tr>\n",
       "      <th>4</th>\n",
       "      <td>5</td>\n",
       "      <td>104</td>\n",
       "      <td>Monitor</td>\n",
       "      <td>120</td>\n",
       "      <td>2500000.0</td>\n",
       "      <td>2025-07-04</td>\n",
       "      <td>Selesai</td>\n",
       "      <td>3.0</td>\n",
       "    </tr>\n",
       "  </tbody>\n",
       "</table>\n",
       "</div>"
      ],
      "text/plain": [
       "   order_id  customer_id nama_produk  jumlah  harga_satuan tanggal_order  \\\n",
       "0         1          101      Laptop       1    12000000.0    2025-07-01   \n",
       "1         2          102       Mouse       2      150000.0    2025-07-01   \n",
       "2         3          103    Keyboard       1      350000.0    2025-07-02   \n",
       "3         4          101      laptop       1    12500000.0    2025-07-03   \n",
       "4         5          104     Monitor     120     2500000.0    2025-07-04   \n",
       "\n",
       "  status_pengiriman  rating_produk  \n",
       "0           Selesai            5.0  \n",
       "1           Selesai            4.0  \n",
       "2           Dikirim            5.0  \n",
       "3           Selesai            4.0  \n",
       "4           Selesai            3.0  "
      ]
     },
     "execution_count": 3,
     "metadata": {},
     "output_type": "execute_result"
    }
   ],
   "source": [
    "# Ganti dengan kredensial database PostgreSQL Anda\n",
    "db_user = 'avnadmin'\n",
    "db_password = 'AVNS_9tlb724wsVZP8tiktZC'\n",
    "db_host = 'zulfri-psd-data-science-zulfri.f.aivencloud.com'\n",
    "db_port = '18222'\n",
    "db_name = 'defaultdb'\n",
    "\n",
    "# Membuat connection string\n",
    "conn_string = f'postgresql://{db_user}:{db_password}@{db_host}:{db_port}/{db_name}'\n",
    "\n",
    "# Membuat engine koneksi ke database\n",
    "try:\n",
    "    engine = create_engine(conn_string)\n",
    "    print(\"Koneksi ke database PostgreSQL berhasil!\")\n",
    "except Exception as e:\n",
    "    print(f\"Terjadi kesalahan saat koneksi: {e}\")\n",
    "\n",
    "# --- PENGAMBILAN DATA ---\n",
    "# Tulis query SQL untuk mengambil data yang Anda butuhkan\n",
    "sql_query = \"SELECT * FROM data_penjualan;\"\n",
    "\n",
    "# Mengambil data menggunakan pandas dan koneksi engine\n",
    "try:\n",
    "    df = pd.read_sql(sql_query, engine)\n",
    "    print(\"Data berhasil diambil dari tabel.\")\n",
    "except Exception as e:\n",
    "    print(f\"Terjadi kesalahan saat mengambil data: {e}\")\n",
    "\n",
    "# Menampilkan 5 baris pertama dari data untuk memastikan data berhasil dimuat\n",
    "df.head()"
   ]
  },
  {
   "cell_type": "markdown",
   "id": "5d16bca6",
   "metadata": {},
   "source": [
    "## 4. Memahami Tipe Data (Data Types)\n",
    "Setelah data berhasil dimuat ke dalam DataFrame, langkah pertama dalam data understanding adalah memeriksa tipe data dari setiap kolom. Ini membantu kita memahami jenis informasi yang terkandung di dalamnya (misalnya, numerik, kategorikal, atau tanggal) dan merencanakan langkah analisis selanjutnya.\n",
    "\n",
    "Metode .info() dari pandas memberikan ringkasan lengkap, termasuk jumlah entri, nama kolom, jumlah nilai non-null, dan tipe data."
   ]
  },
  {
   "cell_type": "code",
   "execution_count": 4,
   "id": "7442b563",
   "metadata": {},
   "outputs": [
    {
     "name": "stdout",
     "output_type": "stream",
     "text": [
      "Informasi Umum DataFrame:\n",
      "<class 'pandas.core.frame.DataFrame'>\n",
      "RangeIndex: 50 entries, 0 to 49\n",
      "Data columns (total 8 columns):\n",
      " #   Column             Non-Null Count  Dtype  \n",
      "---  ------             --------------  -----  \n",
      " 0   order_id           50 non-null     int64  \n",
      " 1   customer_id        50 non-null     int64  \n",
      " 2   nama_produk        48 non-null     object \n",
      " 3   jumlah             50 non-null     int64  \n",
      " 4   harga_satuan       50 non-null     float64\n",
      " 5   tanggal_order      50 non-null     object \n",
      " 6   status_pengiriman  50 non-null     object \n",
      " 7   rating_produk      44 non-null     float64\n",
      "dtypes: float64(2), int64(3), object(3)\n",
      "memory usage: 3.3+ KB\n"
     ]
    }
   ],
   "source": [
    "# Menampilkan informasi ringkas tentang DataFrame\n",
    "# Ini mencakup tipe data setiap kolom dan jumlah nilai non-null\n",
    "print(\"Informasi Umum DataFrame:\")\n",
    "df.info()"
   ]
  },
  {
   "cell_type": "markdown",
   "id": "dd5da047",
   "metadata": {},
   "source": [
    "**Penjelasan Hasil:**\n",
    "\n",
    "Dari output di atas, kita dapat melihat daftar semua kolom beserta tipe datanya (`int64`, `float64`, `object`, dll.). Perhatikan kolom mana yang memiliki tipe data yang belum sesuai, misalnya kolom tanggal yang masih terbaca sebagai `object` atau angka yang seharusnya numerik namun bertipe `object`. Jika ditemukan ketidaksesuaian tipe data, kita perlu melakukan konversi tipe data pada tahap *Data Preparation*."
   ]
  },
  {
   "cell_type": "markdown",
   "id": "6c868b23",
   "metadata": {},
   "source": [
    "## 5. Analisis Kualitas Data (Data Quality)\n",
    "Kualitas data adalah fondasi dari analisis yang andal. Di sini kita akan memeriksa tiga aspek utama: missing value, konsistensi data, dan outlier."
   ]
  },
  {
   "cell_type": "markdown",
   "id": "2c3d4639",
   "metadata": {},
   "source": [
    "### a. Missing Value\n",
    "Missing value (nilai yang hilang) adalah nilai yang tidak tercatat dalam dataset. Kehadirannya dapat mengurangi akurasi model dan menyebabkan bias. Langkah pertama adalah mengidentifikasi dan menghitungnya."
   ]
  },
  {
   "cell_type": "code",
   "execution_count": 5,
   "id": "5bfb778d",
   "metadata": {},
   "outputs": [
    {
     "data": {
      "text/html": [
       "<div>\n",
       "<style scoped>\n",
       "    .dataframe tbody tr th:only-of-type {\n",
       "        vertical-align: middle;\n",
       "    }\n",
       "\n",
       "    .dataframe tbody tr th {\n",
       "        vertical-align: top;\n",
       "    }\n",
       "\n",
       "    .dataframe thead th {\n",
       "        text-align: right;\n",
       "    }\n",
       "</style>\n",
       "<table border=\"1\" class=\"dataframe\">\n",
       "  <thead>\n",
       "    <tr style=\"text-align: right;\">\n",
       "      <th></th>\n",
       "      <th>Jumlah Missing</th>\n",
       "      <th>Persentase Missing (%)</th>\n",
       "    </tr>\n",
       "  </thead>\n",
       "  <tbody>\n",
       "    <tr>\n",
       "      <th>rating_produk</th>\n",
       "      <td>6</td>\n",
       "      <td>12.0</td>\n",
       "    </tr>\n",
       "    <tr>\n",
       "      <th>nama_produk</th>\n",
       "      <td>2</td>\n",
       "      <td>4.0</td>\n",
       "    </tr>\n",
       "  </tbody>\n",
       "</table>\n",
       "</div>"
      ],
      "text/plain": [
       "               Jumlah Missing  Persentase Missing (%)\n",
       "rating_produk               6                    12.0\n",
       "nama_produk                 2                     4.0"
      ]
     },
     "execution_count": 5,
     "metadata": {},
     "output_type": "execute_result"
    }
   ],
   "source": [
    "# Menghitung jumlah missing value di setiap kolom\n",
    "missing_values = df.isnull().sum()\n",
    "\n",
    "# Menghitung persentase missing value\n",
    "missing_percentage = (missing_values / len(df)) * 100\n",
    "\n",
    "# Membuat DataFrame untuk menampilkan hasilnya\n",
    "missing_info = pd.DataFrame({\n",
    "    'Jumlah Missing': missing_values,\n",
    "    'Persentase Missing (%)': missing_percentage\n",
    "})\n",
    "\n",
    "# Menampilkan kolom yang memiliki missing value saja (diurutkan dari yang terbanyak)\n",
    "missing_info[missing_info['Jumlah Missing'] > 0].sort_values(\n",
    "    by='Jumlah Missing', ascending=False)"
   ]
  },
  {
   "cell_type": "markdown",
   "id": "a1db8039",
   "metadata": {},
   "source": [
    "**Penjelasan Hasil:**\n",
    "\n",
    "Output di atas menunjukkan kolom mana saja yang memiliki nilai yang hilang, berapa jumlahnya, dan berapa persentasenya dari total data. Informasi ini akan menjadi dasar untuk memutuskan strategi penanganan missing value di tahap Data Preparation (misalnya, dihapus, diisi dengan mean/median/modus, atau menggunakan metode imputasi yang lebih canggih)."
   ]
  },
  {
   "cell_type": "markdown",
   "id": "f9e75687",
   "metadata": {},
   "source": [
    "### b. Konsistensi Data\n",
    "Konsistensi data memastikan bahwa tidak ada data yang duplikat atau kontradiktif. Salah satu cara paling dasar untuk memeriksa konsistensi adalah dengan mencari baris data yang identik (duplicate rows)."
   ]
  },
  {
   "cell_type": "code",
   "execution_count": 6,
   "id": "390be4a6",
   "metadata": {},
   "outputs": [
    {
     "name": "stdout",
     "output_type": "stream",
     "text": [
      "Jumlah baris duplikat dalam dataset: 0\n"
     ]
    }
   ],
   "source": [
    "# Menghitung jumlah baris duplikat\n",
    "duplicate_rows = df.duplicated().sum()\n",
    "\n",
    "print(f\"Jumlah baris duplikat dalam dataset: {duplicate_rows}\")\n",
    "\n",
    "# Jika ditemukan duplikat, Anda bisa menampilkannya (opsional)\n",
    "if duplicate_rows > 0:\n",
    "    print(\"\\nContoh baris duplikat:\")\n",
    "    # Menampilkan semua baris yang terduplikasi\n",
    "    display(df[df.duplicated(keep=False)].sort_values(by=list(df.columns)))"
   ]
  },
  {
   "cell_type": "markdown",
   "id": "db55d819",
   "metadata": {},
   "source": [
    "**Penjelasan Hasil:**\n",
    "\n",
    "Jika duplicate_rows lebih dari 0, artinya ada entri data yang sama persis. Duplikasi ini bisa terjadi karena kesalahan input atau proses ETL (Extract, Transform, Load). Data duplikat harus ditangani (biasanya dengan menghapusnya) karena dapat memberikan bobot yang tidak semestinya pada data tertentu saat pelatihan model."
   ]
  },
  {
   "cell_type": "markdown",
   "id": "b97c5da1",
   "metadata": {},
   "source": [
    "### c. Analisis Outlier (IQR Method)\n",
    "Outlier adalah titik data yang berbeda secara signifikan dari observasi lainnya. Outlier dapat memengaruhi hasil analisis statistik dan performa model. Salah satu metode yang paling umum untuk mendeteksi outlier pada data numerik adalah metode Interquartile Range (IQR).\n",
    "\n",
    "Sebuah nilai dianggap outlier jika berada di luar rentang:"
   ]
  },
  {
   "cell_type": "markdown",
   "id": "32328765",
   "metadata": {},
   "source": [
    "$$\n",
    "\\text{Batas Bawah} = Q_1 - 1.5 \\times IQR\n",
    "$$\n",
    "\n",
    "$$\n",
    "\\text{Batas Atas} = Q_3 + 1.5 \\times IQR\n",
    "$$\n",
    "\n",
    "$$\n",
    "IQR = Q_3 - Q_1\n",
    "$$\n"
   ]
  },
  {
   "cell_type": "code",
   "execution_count": 7,
   "id": "75f528f4",
   "metadata": {},
   "outputs": [
    {
     "name": "stdout",
     "output_type": "stream",
     "text": [
      "Kolom numerik yang akan dianalisis: ['order_id', 'customer_id', 'jumlah', 'harga_satuan', 'rating_produk']\n",
      "\n",
      "--- Analisis Outlier untuk Kolom: 'order_id' ---\n",
      "Q1: 13.25, Q3: 37.75, IQR: 24.50\n",
      "Batas Bawah: -23.50\n",
      "Batas Atas: 74.50\n",
      "Jumlah outlier terdeteksi: 0\n"
     ]
    },
    {
     "data": {
      "image/png": "[encoded data removed]",
      "text/plain": [
       "<Figure size 1000x400 with 1 Axes>"
      ]
     },
     "metadata": {},
     "output_type": "display_data"
    },
    {
     "name": "stdout",
     "output_type": "stream",
     "text": [
      "\n",
      "==================================================\n",
      "\n",
      "--- Analisis Outlier untuk Kolom: 'customer_id' ---\n",
      "Q1: 106.25, Q3: 127.75, IQR: 21.50\n",
      "Batas Bawah: 74.00\n",
      "Batas Atas: 160.00\n",
      "Jumlah outlier terdeteksi: 0\n"
     ]
    },
    {
     "data": {
      "image/png": "[encoded data removed]",
      "text/plain": [
       "<Figure size 1000x400 with 1 Axes>"
      ]
     },
     "metadata": {},
     "output_type": "display_data"
    },
    {
     "name": "stdout",
     "output_type": "stream",
     "text": [
      "\n",
      "==================================================\n",
      "\n",
      "--- Analisis Outlier untuk Kolom: 'jumlah' ---\n",
      "Q1: 1.00, Q3: 2.00, IQR: 1.00\n",
      "Batas Bawah: -0.50\n",
      "Batas Atas: 3.50\n",
      "Jumlah outlier terdeteksi: 6\n"
     ]
    },
    {
     "data": {
      "image/png": "[encoded data removed]",
      "text/plain": [
       "<Figure size 1000x400 with 1 Axes>"
      ]
     },
     "metadata": {},
     "output_type": "display_data"
    },
    {
     "name": "stdout",
     "output_type": "stream",
     "text": [
      "\n",
      "==================================================\n",
      "\n",
      "--- Analisis Outlier untuk Kolom: 'harga_satuan' ---\n",
      "Q1: 346250.00, Q3: 1587500.00, IQR: 1241250.00\n",
      "Batas Bawah: -1515625.00\n",
      "Batas Atas: 3449375.00\n",
      "Jumlah outlier terdeteksi: 7\n"
     ]
    },
    {
     "data": {
      "image/png": "[encoded data removed]",
      "text/plain": [
       "<Figure size 1000x400 with 1 Axes>"
      ]
     },
     "metadata": {},
     "output_type": "display_data"
    },
    {
     "name": "stdout",
     "output_type": "stream",
     "text": [
      "\n",
      "==================================================\n",
      "\n",
      "--- Analisis Outlier untuk Kolom: 'rating_produk' ---\n",
      "Q1: 3.00, Q3: 5.00, IQR: 2.00\n",
      "Batas Bawah: 0.00\n",
      "Batas Atas: 8.00\n",
      "Jumlah outlier terdeteksi: 0\n"
     ]
    },
    {
     "data": {
      "image/png": "[encoded data removed]",
      "text/plain": [
       "<Figure size 1000x400 with 1 Axes>"
      ]
     },
     "metadata": {},
     "output_type": "display_data"
    },
    {
     "name": "stdout",
     "output_type": "stream",
     "text": [
      "\n",
      "==================================================\n",
      "\n"
     ]
    }
   ],
   "source": [
    "# Memilih kolom numerik untuk dianalisis\n",
    "# df.select_dtypes() membantu memilih kolom berdasarkan tipe datanya\n",
    "numeric_cols = df.select_dtypes(include=np.number).columns.tolist()\n",
    "print(f\"Kolom numerik yang akan dianalisis: {numeric_cols}\\n\")\n",
    "\n",
    "# Looping untuk setiap kolom numerik untuk menemukan outlier\n",
    "for col in numeric_cols:\n",
    "    Q1 = df[col].quantile(0.25)\n",
    "    Q3 = df[col].quantile(0.75)\n",
    "    IQR = Q3 - Q1\n",
    "\n",
    "    lower_bound = Q1 - 1.5 * IQR\n",
    "    upper_bound = Q3 + 1.5 * IQR\n",
    "\n",
    "    # Mengidentifikasi outlier\n",
    "    outliers = df[(df[col] < lower_bound) | (df[col] > upper_bound)]\n",
    "\n",
    "    print(f\"--- Analisis Outlier untuk Kolom: '{col}' ---\")\n",
    "    print(f\"Q1: {Q1:.2f}, Q3: {Q3:.2f}, IQR: {IQR:.2f}\")\n",
    "    print(f\"Batas Bawah: {lower_bound:.2f}\")\n",
    "    print(f\"Batas Atas: {upper_bound:.2f}\")\n",
    "    print(f\"Jumlah outlier terdeteksi: {len(outliers)}\")\n",
    "\n",
    "    # Visualisasi dengan Box Plot untuk melihat distribusi dan outlier\n",
    "    plt.figure(figsize=(10, 4))\n",
    "    sns.boxplot(x=df[col])\n",
    "    plt.title(f'Box Plot untuk Kolom {col}')\n",
    "    plt.show()\n",
    "    print(\"\\n\" + \"=\"*50 + \"\\n\")"
   ]
  },
  {
   "cell_type": "markdown",
   "id": "5d21de40",
   "metadata": {},
   "source": [
    "**Penjelasan Hasil:**\n",
    "\n",
    "Untuk setiap kolom numerik, kode di atas menghitung batas bawah dan batas atas menggunakan metode IQR. Jumlah data yang berada di luar rentang ini dilaporkan sebagai outlier. Visualisasi box plot juga sangat membantu untuk melihat distribusi data dan outlier secara grafis (ditandai sebagai titik-titik di luar \"kumis\" plot). Pengetahuan tentang outlier ini penting untuk memutuskan apakah mereka perlu dihapus, ditransformasi, atau dibiarkan saja, tergantung pada konteks bisnis dan tujuan analisis."
   ]
  },
  {
   "cell_type": "markdown",
   "id": "d12954e5",
   "metadata": {},
   "source": []
  }
 ],
 "metadata": {
  "kernelspec": {
   "display_name": "Python 3",
   "language": "python",
   "name": "python3"
  },
  "language_info": {
   "codemirror_mode": {
    "name": "ipython",
    "version": 3
   },
   "file_extension": ".py",
   "mimetype": "text/x-python",
   "name": "python",
   "nbconvert_exporter": "python",
   "pygments_lexer": "ipython3",
   "version": "3.13.2"
  }
 },
 "nbformat": 4,
 "nbformat_minor": 5
}
