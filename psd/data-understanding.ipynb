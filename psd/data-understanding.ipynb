{
 "cells": [
  {
   "cell_type": "markdown",
   "id": "29299f0a",
   "metadata": {},
   "source": [
    "# Data Understanding"
   ]
  },
  {
   "cell_type": "markdown",
   "id": "92c058c4",
   "metadata": {},
   "source": [
    "## 1. Pendahuluan\n",
    "\n",
    "Tahapan **Data Understanding** adalah fase awal dalam siklus hidup proyek data science. Tujuannya adalah untuk mendapatkan pemahaman mendalam tentang data yang akan digunakan. Pada tahap ini, kita akan melakukan analisis eksplorasi awal untuk mengidentifikasi karakteristik, kualitas, dan pola dalam data. Proses ini sangat krusial karena kualitas data akan sangat memengaruhi kualitas model yang akan dibangun.\n",
    "\n",
    "Dokumen ini akan memandu proses *data understanding* yang meliputi:\n",
    "\n",
    "- **Menghubungkan dan mengambil data** dari database PostgreSQL.\n",
    "- **Menganalisis tipe data** dari setiap kolom.\n",
    "- **Mengevaluasi kualitas data**, termasuk analisis outlier, konsistensi data, dan penanganan missing value.\n"
   ]
  },
  {
   "cell_type": "markdown",
   "id": "bfd3ce7d",
   "metadata": {},
   "source": [
    "## 2. Impor Library yang Dibutuhkan\n",
    "Sel pertama ini berisi semua library Python yang akan kita gunakan selama proses analisis. Mengumpulkannya di satu tempat membuat kode lebih terorganisir."
   ]
  },
  {
   "cell_type": "code",
   "execution_count": 8,
   "id": "da0c0838",
   "metadata": {},
   "outputs": [
    {
     "name": "stdout",
     "output_type": "stream",
     "text": [
      "Note: you may need to restart the kernel to use updated packages.\n"
     ]
    }
   ],
   "source": [
    "%pip install -q psycopg2-binary sqlalchemy pandas numpy seaborn\n",
    "# Import library untuk koneksi database\n",
    "import psycopg2\n",
    "from sqlalchemy import create_engine\n",
    "# Import library untuk analisis dan manipulasi data\n",
    "import pandas as pd\n",
    "import numpy as np\n",
    "# Import library untuk visualisasi (opsional, namun sangat membantu)\n",
    "import seaborn as sns\n",
    "import matplotlib.pyplot as plt\n"
   ]
  },
  {
   "cell_type": "markdown",
   "id": "5a9e03be",
   "metadata": {},
   "source": [
    "## 3. Koneksi ke Database PostgreSQL dan Pengambilan Data\n",
    "Langkah selanjutnya adalah menghubungkan notebook ini dengan database PostgreSQL tempat data disimpan. Kita akan menggunakan sqlalchemy untuk membuat koneksi dan pandas untuk mengeksekusi query SQL dan menyimpannya ke dalam DataFrame.\n",
    "\n",
    "Ganti nilai user, password, host, port, database, dan query sesuai dengan konfigurasi Anda."
   ]
  },
  {
   "cell_type": "code",
   "execution_count": 11,
   "id": "b7169d7d",
   "metadata": {},
   "outputs": [
    {
     "name": "stdout",
     "output_type": "stream",
     "text": [
      "Koneksi ke database PostgreSQL berhasil!\n",
      "Data berhasil diambil dari tabel.\n"
     ]
    },
    {
     "data": {
      "text/html": [
       "<div>\n",
       "<style scoped>\n",
       "    .dataframe tbody tr th:only-of-type {\n",
       "        vertical-align: middle;\n",
       "    }\n",
       "\n",
       "    .dataframe tbody tr th {\n",
       "        vertical-align: top;\n",
       "    }\n",
       "\n",
       "    .dataframe thead th {\n",
       "        text-align: right;\n",
       "    }\n",
       "</style>\n",
       "<table border=\"1\" class=\"dataframe\">\n",
       "  <thead>\n",
       "    <tr style=\"text-align: right;\">\n",
       "      <th></th>\n",
       "      <th>order_id</th>\n",
       "      <th>customer_id</th>\n",
       "      <th>nama_produk</th>\n",
       "      <th>jumlah</th>\n",
       "      <th>harga_satuan</th>\n",
       "      <th>tanggal_order</th>\n",
       "      <th>status_pengiriman</th>\n",
       "      <th>rating_produk</th>\n",
       "    </tr>\n",
       "  </thead>\n",
       "  <tbody>\n",
       "    <tr>\n",
       "      <th>0</th>\n",
       "      <td>1</td>\n",
       "      <td>101</td>\n",
       "      <td>Laptop</td>\n",
       "      <td>1</td>\n",
       "      <td>12000000.0</td>\n",
       "      <td>2025-07-01</td>\n",
       "      <td>Selesai</td>\n",
       "      <td>5.0</td>\n",
       "    </tr>\n",
       "    <tr>\n",
       "      <th>1</th>\n",
       "      <td>2</td>\n",
       "      <td>102</td>\n",
       "      <td>Mouse</td>\n",
       "      <td>2</td>\n",
       "      <td>150000.0</td>\n",
       "      <td>2025-07-01</td>\n",
       "      <td>Selesai</td>\n",
       "      <td>4.0</td>\n",
       "    </tr>\n",
       "    <tr>\n",
       "      <th>2</th>\n",
       "      <td>3</td>\n",
       "      <td>103</td>\n",
       "      <td>Keyboard</td>\n",
       "      <td>1</td>\n",
       "      <td>350000.0</td>\n",
       "      <td>2025-07-02</td>\n",
       "      <td>Dikirim</td>\n",
       "      <td>5.0</td>\n",
       "    </tr>\n",
       "    <tr>\n",
       "      <th>3</th>\n",
       "      <td>4</td>\n",
       "      <td>101</td>\n",
       "      <td>laptop</td>\n",
       "      <td>1</td>\n",
       "      <td>12500000.0</td>\n",
       "      <td>2025-07-03</td>\n",
       "      <td>Selesai</td>\n",
       "      <td>4.0</td>\n",
       "    </tr>\n",
       "    <tr>\n",
       "      <th>4</th>\n",
       "      <td>5</td>\n",
       "      <td>104</td>\n",
       "      <td>Monitor</td>\n",
       "      <td>120</td>\n",
       "      <td>2500000.0</td>\n",
       "      <td>2025-07-04</td>\n",
       "      <td>Selesai</td>\n",
       "      <td>3.0</td>\n",
       "    </tr>\n",
       "  </tbody>\n",
       "</table>\n",
       "</div>"
      ],
      "text/plain": [
       "   order_id  customer_id nama_produk  jumlah  harga_satuan tanggal_order  \\\n",
       "0         1          101      Laptop       1    12000000.0    2025-07-01   \n",
       "1         2          102       Mouse       2      150000.0    2025-07-01   \n",
       "2         3          103    Keyboard       1      350000.0    2025-07-02   \n",
       "3         4          101      laptop       1    12500000.0    2025-07-03   \n",
       "4         5          104     Monitor     120     2500000.0    2025-07-04   \n",
       "\n",
       "  status_pengiriman  rating_produk  \n",
       "0           Selesai            5.0  \n",
       "1           Selesai            4.0  \n",
       "2           Dikirim            5.0  \n",
       "3           Selesai            4.0  \n",
       "4           Selesai            3.0  "
      ]
     },
     "execution_count": 11,
     "metadata": {},
     "output_type": "execute_result"
    }
   ],
   "source": [
    "# Ganti dengan kredensial database PostgreSQL Anda\n",
    "db_user = 'avnadmin'\n",
    "db_password = 'AVNS_9tlb724wsVZP8tiktZC'\n",
    "db_host = 'zulfri-psd-data-science-zulfri.f.aivencloud.com'\n",
    "db_port = '18222'\n",
    "db_name = 'defaultdb'\n",
    "\n",
    "# Membuat connection string\n",
    "conn_string = f'postgresql://{db_user}:{db_password}@{db_host}:{db_port}/{db_name}'\n",
    "\n",
    "# Membuat engine koneksi ke database\n",
    "try:\n",
    "    engine = create_engine(conn_string)\n",
    "    print(\"Koneksi ke database PostgreSQL berhasil!\")\n",
    "except Exception as e:\n",
    "    print(f\"Terjadi kesalahan saat koneksi: {e}\")\n",
    "\n",
    "# --- PENGAMBILAN DATA ---\n",
    "# Tulis query SQL untuk mengambil data yang Anda butuhkan\n",
    "sql_query = \"SELECT * FROM data_penjualan;\"\n",
    "\n",
    "# Mengambil data menggunakan pandas dan koneksi engine\n",
    "try:\n",
    "    df = pd.read_sql(sql_query, engine)\n",
    "    print(\"Data berhasil diambil dari tabel.\")\n",
    "except Exception as e:\n",
    "    print(f\"Terjadi kesalahan saat mengambil data: {e}\")\n",
    "\n",
    "# Menampilkan 5 baris pertama dari data untuk memastikan data berhasil dimuat\n",
    "df.head()"
   ]
  },
  {
   "cell_type": "code",
   "execution_count": null,
   "id": "5bfb778d",
   "metadata": {},
   "outputs": [],
   "source": []
  }
 ],
 "metadata": {
  "kernelspec": {
   "display_name": "Python 3",
   "language": "python",
   "name": "python3"
  },
  "language_info": {
   "codemirror_mode": {
    "name": "ipython",
    "version": 3
   },
   "file_extension": ".py",
   "mimetype": "text/x-python",
   "name": "python",
   "nbconvert_exporter": "python",
   "pygments_lexer": "ipython3",
   "version": "3.13.2"
  }
 },
 "nbformat": 4,
 "nbformat_minor": 5
}
